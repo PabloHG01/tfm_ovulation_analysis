{
 "cells": [
  {
   "cell_type": "markdown",
   "metadata": {},
   "source": [
    "# Preprocesamiento de los datos de ovulación"
   ]
  },
  {
   "cell_type": "code",
   "execution_count": 4,
   "metadata": {},
   "outputs": [],
   "source": [
    "import pandas as pd\n",
    "import numpy as np"
   ]
  },
  {
   "cell_type": "markdown",
   "metadata": {},
   "source": [
    "Cargamos los datos de ovulación"
   ]
  },
  {
   "cell_type": "code",
   "execution_count": 5,
   "metadata": {},
   "outputs": [],
   "source": [
    "medNotes= pd.read_csv('../medData/medNotes.csv', header=0, sep=';')"
   ]
  },
  {
   "cell_type": "code",
   "execution_count": 6,
   "metadata": {},
   "outputs": [
    {
     "name": "stdout",
     "output_type": "stream",
     "text": [
      "(4138, 10)\n"
     ]
    },
    {
     "data": {
      "text/html": [
       "<div>\n",
       "<style scoped>\n",
       "    .dataframe tbody tr th:only-of-type {\n",
       "        vertical-align: middle;\n",
       "    }\n",
       "\n",
       "    .dataframe tbody tr th {\n",
       "        vertical-align: top;\n",
       "    }\n",
       "\n",
       "    .dataframe thead th {\n",
       "        text-align: right;\n",
       "    }\n",
       "</style>\n",
       "<table border=\"1\" class=\"dataframe\">\n",
       "  <thead>\n",
       "    <tr style=\"text-align: right;\">\n",
       "      <th></th>\n",
       "      <th>row</th>\n",
       "      <th>prodId</th>\n",
       "      <th>givenCustomer</th>\n",
       "      <th>givenName</th>\n",
       "      <th>givenContact</th>\n",
       "      <th>givenComment</th>\n",
       "      <th>enterTimestamp</th>\n",
       "      <th>givenTimestamp</th>\n",
       "      <th>notes</th>\n",
       "      <th>Tu</th>\n",
       "    </tr>\n",
       "  </thead>\n",
       "  <tbody>\n",
       "    <tr>\n",
       "      <th>0</th>\n",
       "      <td>256</td>\n",
       "      <td>04:EB:BD:DA:00:20:21:08</td>\n",
       "      <td>TempID</td>\n",
       "      <td>NaN</td>\n",
       "      <td>NaN</td>\n",
       "      <td>36,2</td>\n",
       "      <td>2021-11-22 22:00:58</td>\n",
       "      <td>1637611247</td>\n",
       "      <td>NaN</td>\n",
       "      <td>NaN</td>\n",
       "    </tr>\n",
       "    <tr>\n",
       "      <th>1</th>\n",
       "      <td>512</td>\n",
       "      <td>04:93:88:97:00:27:55:0D</td>\n",
       "      <td>TempID</td>\n",
       "      <td>NaN</td>\n",
       "      <td>NaN</td>\n",
       "      <td>35.5</td>\n",
       "      <td>2021-11-29 17:09:51</td>\n",
       "      <td>1638198586</td>\n",
       "      <td>NaN</td>\n",
       "      <td>NaN</td>\n",
       "    </tr>\n",
       "    <tr>\n",
       "      <th>2</th>\n",
       "      <td>1024</td>\n",
       "      <td>04:D3:D1:8E:00:16:0A:0D</td>\n",
       "      <td>TempID</td>\n",
       "      <td>NaN</td>\n",
       "      <td>NaN</td>\n",
       "      <td>36.7</td>\n",
       "      <td>2021-12-18 18:37:06</td>\n",
       "      <td>1639845424</td>\n",
       "      <td>NaN</td>\n",
       "      <td>NaN</td>\n",
       "    </tr>\n",
       "    <tr>\n",
       "      <th>3</th>\n",
       "      <td>1</td>\n",
       "      <td>04:85:E4:ED:00:B5:5A:0F</td>\n",
       "      <td>TempID</td>\n",
       "      <td>NaN</td>\n",
       "      <td>NaN</td>\n",
       "      <td>Test</td>\n",
       "      <td>2021-09-15 15:05:07</td>\n",
       "      <td>1631706717</td>\n",
       "      <td>NaN</td>\n",
       "      <td>NaN</td>\n",
       "    </tr>\n",
       "    <tr>\n",
       "      <th>4</th>\n",
       "      <td>257</td>\n",
       "      <td>04:79:6A:9F:00:C4:1F:07</td>\n",
       "      <td>TempID</td>\n",
       "      <td>NaN</td>\n",
       "      <td>NaN</td>\n",
       "      <td>36,7</td>\n",
       "      <td>2021-11-22 22:01:29</td>\n",
       "      <td>1637611281</td>\n",
       "      <td>NaN</td>\n",
       "      <td>NaN</td>\n",
       "    </tr>\n",
       "  </tbody>\n",
       "</table>\n",
       "</div>"
      ],
      "text/plain": [
       "    row                   prodId givenCustomer  givenName  givenContact  \\\n",
       "0   256  04:EB:BD:DA:00:20:21:08        TempID        NaN           NaN   \n",
       "1   512  04:93:88:97:00:27:55:0D        TempID        NaN           NaN   \n",
       "2  1024  04:D3:D1:8E:00:16:0A:0D        TempID        NaN           NaN   \n",
       "3     1  04:85:E4:ED:00:B5:5A:0F        TempID        NaN           NaN   \n",
       "4   257  04:79:6A:9F:00:C4:1F:07        TempID        NaN           NaN   \n",
       "\n",
       "  givenComment       enterTimestamp  givenTimestamp  notes   Tu  \n",
       "0         36,2  2021-11-22 22:00:58      1637611247    NaN  NaN  \n",
       "1         35.5  2021-11-29 17:09:51      1638198586    NaN  NaN  \n",
       "2         36.7  2021-12-18 18:37:06      1639845424    NaN  NaN  \n",
       "3         Test  2021-09-15 15:05:07      1631706717    NaN  NaN  \n",
       "4         36,7  2021-11-22 22:01:29      1637611281    NaN  NaN  "
      ]
     },
     "execution_count": 6,
     "metadata": {},
     "output_type": "execute_result"
    }
   ],
   "source": [
    "print(medNotes.shape)\n",
    "medNotes.head()"
   ]
  },
  {
   "cell_type": "code",
   "execution_count": 7,
   "metadata": {},
   "outputs": [
    {
     "data": {
      "text/plain": [
       "(4138, 10)"
      ]
     },
     "execution_count": 7,
     "metadata": {},
     "output_type": "execute_result"
    }
   ],
   "source": [
    "medNotes.shape"
   ]
  },
  {
   "cell_type": "code",
   "execution_count": 8,
   "metadata": {},
   "outputs": [
    {
     "data": {
      "text/plain": [
       "array(['Test', 'Test123', 'testime', 'Pos. OV test', 'Ovulatsioon',\n",
       "       'Ovulatsiooni ', '17. tsüklipäeval ovulatsioonitest pos',\n",
       "       '14. tsüklipäev ovulatsioonitest pos',\n",
       "       'Positiivne rasedustest 21.05', 'Ovulatsioonipäev',\n",
       "       '36.6, eile oli ovulatsioon',\n",
       "       'Kõikuv kehatemperatuur seoses sellega, et koroona test oli positiivne. ',\n",
       "       'Positiivne ovulatsiooni test ca 7 hommikul',\n",
       "       'Tsükli 14s päev (ov test positiivne)', 'Peale enda tatoveerimist',\n",
       "       'Ovulatsioon.', 'Ovulatsioon oli 20.04.2022',\n",
       "       'Ovulatsioonitest pos', 'Tsükli 12.päev, pos ovulatsioon',\n",
       "       'Ovulatsiooni test positiivne', 'Ovulatsiooni vereproovi andmine',\n",
       "       'Ovulatsioon on', 'Positiivne ovulatsiooni test, 1 päev',\n",
       "       'Ov test positiivne', 'Ov', 'Täna on ovulatsioon',\n",
       "       'Ovulatsioonitest positiivne', 'Ovul', 'Ovulatsioon ',\n",
       "       'Ovutatsioon',\n",
       "       'Andur ei skänninud mitu päeva, proovisin äppi kustutada ja uuesti laadida, nüüd hakkas uuesti tööle',\n",
       "       'Ovulatsiooni test positiivne ', 'Ovulatsiooni test pos',\n",
       "       'Ovulatsioonitest positiivne, 35.6 C', 'Ovulutsioon',\n",
       "       'Ovulatsioon tuvastatud', 'Positiivne OV test', 'Ov. Test pos.',\n",
       "       'Ovulatsiooni algus', 'ovulatsioon', 'Ovulatsioon (13.06.22)',\n",
       "       'Uriini test näitab positiivset ovulatsiooni', 'ovulatsioon ',\n",
       "       'Naerunägu-ovulatsioon', 'Ovul.', 'Ovul.päev',\n",
       "       'Ovulatsioonitest on positiivne', 'Ovulatsioon pos', 'Ovulation ',\n",
       "       'OV test positiivne ', 'OV test pos', 'Vereproov', 'Positiivne',\n",
       "       'Ovulatsioonitrst on positiivne',\n",
       "       'Ovulatsiooni test POS, tsükli 14.päev', 'Testi tulemus poitiivne',\n",
       "       '24.05 oli ovulatsioon', 'Pos ovulatsiooni tulemus'], dtype=object)"
      ]
     },
     "execution_count": 8,
     "metadata": {},
     "output_type": "execute_result"
    }
   ],
   "source": [
    "# Definir los patrones de búsqueda\n",
    "patrones_positivos = \"ov|Ov|OV|test|Test|TEST|pos|Pos|POS\"\n",
    "patrones_negativos = \"neg|Neg|NEG|ei ole|ei olnud|pole|ei tuvastanud|mitte ovulats|positiivset testi ei ole saanud\"\n",
    "\n",
    "# Aplicar el filtrado\n",
    "filtro_positivo = medNotes.givenComment.str.contains(patrones_positivos, case=False, na=False)\n",
    "filtro_exclusion = medNotes.givenComment.str.contains(patrones_negativos, case=False, na=False)\n",
    "filtro_olvulacion = filtro_positivo & ~filtro_exclusion\n",
    "\n",
    "medNotes.loc[filtro_olvulacion, \"givenComment\"].unique()"
   ]
  },
  {
   "cell_type": "code",
   "execution_count": 9,
   "metadata": {},
   "outputs": [
    {
     "data": {
      "text/html": [
       "<div>\n",
       "<style scoped>\n",
       "    .dataframe tbody tr th:only-of-type {\n",
       "        vertical-align: middle;\n",
       "    }\n",
       "\n",
       "    .dataframe tbody tr th {\n",
       "        vertical-align: top;\n",
       "    }\n",
       "\n",
       "    .dataframe thead th {\n",
       "        text-align: right;\n",
       "    }\n",
       "</style>\n",
       "<table border=\"1\" class=\"dataframe\">\n",
       "  <thead>\n",
       "    <tr style=\"text-align: right;\">\n",
       "      <th></th>\n",
       "      <th>givenTimestamp</th>\n",
       "      <th>prodId</th>\n",
       "    </tr>\n",
       "  </thead>\n",
       "  <tbody>\n",
       "    <tr>\n",
       "      <th>3</th>\n",
       "      <td>1631706717</td>\n",
       "      <td>04:85:E4:ED:00:B5:5A:0F</td>\n",
       "    </tr>\n",
       "    <tr>\n",
       "      <th>23</th>\n",
       "      <td>1631783866</td>\n",
       "      <td>04:0C:1C:9C:00:69:0E:05</td>\n",
       "    </tr>\n",
       "    <tr>\n",
       "      <th>44</th>\n",
       "      <td>1631787438</td>\n",
       "      <td>04:0C:1C:9C:00:69:0E:05</td>\n",
       "    </tr>\n",
       "    <tr>\n",
       "      <th>49</th>\n",
       "      <td>1638264042</td>\n",
       "      <td>04:DD:91:C0:00:F0:17:0B</td>\n",
       "    </tr>\n",
       "    <tr>\n",
       "      <th>101</th>\n",
       "      <td>-2006054656</td>\n",
       "      <td>04:4E:BD:7F:00:61:31:0F</td>\n",
       "    </tr>\n",
       "    <tr>\n",
       "      <th>...</th>\n",
       "      <td>...</td>\n",
       "      <td>...</td>\n",
       "    </tr>\n",
       "    <tr>\n",
       "      <th>3904</th>\n",
       "      <td>1652517644</td>\n",
       "      <td>04:DD:0B:5A:00:51:44:07</td>\n",
       "    </tr>\n",
       "    <tr>\n",
       "      <th>3983</th>\n",
       "      <td>1654228249</td>\n",
       "      <td>04:B3:B5:8A:00:C2:45:07</td>\n",
       "    </tr>\n",
       "    <tr>\n",
       "      <th>4077</th>\n",
       "      <td>1653455491</td>\n",
       "      <td>04:0E:D8:5A:00:EF:1A:01</td>\n",
       "    </tr>\n",
       "    <tr>\n",
       "      <th>4111</th>\n",
       "      <td>1652871561</td>\n",
       "      <td>04:CD:02:43:00:D7:29:0E</td>\n",
       "    </tr>\n",
       "    <tr>\n",
       "      <th>4136</th>\n",
       "      <td>1655640210</td>\n",
       "      <td>04:CD:02:43:00:D7:29:0E</td>\n",
       "    </tr>\n",
       "  </tbody>\n",
       "</table>\n",
       "<p>139 rows × 2 columns</p>\n",
       "</div>"
      ],
      "text/plain": [
       "      givenTimestamp                   prodId\n",
       "3         1631706717  04:85:E4:ED:00:B5:5A:0F\n",
       "23        1631783866  04:0C:1C:9C:00:69:0E:05\n",
       "44        1631787438  04:0C:1C:9C:00:69:0E:05\n",
       "49        1638264042  04:DD:91:C0:00:F0:17:0B\n",
       "101      -2006054656  04:4E:BD:7F:00:61:31:0F\n",
       "...              ...                      ...\n",
       "3904      1652517644  04:DD:0B:5A:00:51:44:07\n",
       "3983      1654228249  04:B3:B5:8A:00:C2:45:07\n",
       "4077      1653455491  04:0E:D8:5A:00:EF:1A:01\n",
       "4111      1652871561  04:CD:02:43:00:D7:29:0E\n",
       "4136      1655640210  04:CD:02:43:00:D7:29:0E\n",
       "\n",
       "[139 rows x 2 columns]"
      ]
     },
     "execution_count": 9,
     "metadata": {},
     "output_type": "execute_result"
    }
   ],
   "source": [
    "ovulNotes = medNotes.loc[filtro_olvulacion, [\"givenTimestamp\", \"prodId\"]] #Ya no incluimos givenComment porque todos se refieren a ovulación\n",
    "ovulNotes"
   ]
  },
  {
   "cell_type": "code",
   "execution_count": 20,
   "metadata": {},
   "outputs": [
    {
     "name": "stdout",
     "output_type": "stream",
     "text": [
      "3\n",
      "0\n"
     ]
    }
   ],
   "source": [
    "print(ovulNotes.prodId.isnull().sum())\n",
    "print(ovulNotes.givenTimestamp.isnull().sum())"
   ]
  },
  {
   "cell_type": "code",
   "execution_count": 21,
   "metadata": {},
   "outputs": [
    {
     "data": {
      "text/plain": [
       "(136, 2)"
      ]
     },
     "execution_count": 21,
     "metadata": {},
     "output_type": "execute_result"
    }
   ],
   "source": [
    "ovulNotes = ovulNotes.dropna()\n",
    "ovulNotes.shape"
   ]
  },
  {
   "cell_type": "code",
   "execution_count": 22,
   "metadata": {},
   "outputs": [
    {
     "name": "stderr",
     "output_type": "stream",
     "text": [
      "C:\\Users\\pablo\\AppData\\Local\\Temp\\ipykernel_17324\\3852619612.py:1: SettingWithCopyWarning: \n",
      "A value is trying to be set on a copy of a slice from a DataFrame.\n",
      "Try using .loc[row_indexer,col_indexer] = value instead\n",
      "\n",
      "See the caveats in the documentation: https://pandas.pydata.org/pandas-docs/stable/user_guide/indexing.html#returning-a-view-versus-a-copy\n",
      "  ovulNotes[\"timestamp\"] = ovulNotes[\"givenTimestamp\"]\n"
     ]
    },
    {
     "data": {
      "text/html": [
       "<div>\n",
       "<style scoped>\n",
       "    .dataframe tbody tr th:only-of-type {\n",
       "        vertical-align: middle;\n",
       "    }\n",
       "\n",
       "    .dataframe tbody tr th {\n",
       "        vertical-align: top;\n",
       "    }\n",
       "\n",
       "    .dataframe thead th {\n",
       "        text-align: right;\n",
       "    }\n",
       "</style>\n",
       "<table border=\"1\" class=\"dataframe\">\n",
       "  <thead>\n",
       "    <tr style=\"text-align: right;\">\n",
       "      <th></th>\n",
       "      <th>prodId</th>\n",
       "      <th>timestamp</th>\n",
       "    </tr>\n",
       "  </thead>\n",
       "  <tbody>\n",
       "    <tr>\n",
       "      <th>3</th>\n",
       "      <td>04:85:E4:ED:00:B5:5A:0F</td>\n",
       "      <td>1631706717</td>\n",
       "    </tr>\n",
       "    <tr>\n",
       "      <th>23</th>\n",
       "      <td>04:0C:1C:9C:00:69:0E:05</td>\n",
       "      <td>1631783866</td>\n",
       "    </tr>\n",
       "    <tr>\n",
       "      <th>44</th>\n",
       "      <td>04:0C:1C:9C:00:69:0E:05</td>\n",
       "      <td>1631787438</td>\n",
       "    </tr>\n",
       "    <tr>\n",
       "      <th>49</th>\n",
       "      <td>04:DD:91:C0:00:F0:17:0B</td>\n",
       "      <td>1638264042</td>\n",
       "    </tr>\n",
       "    <tr>\n",
       "      <th>101</th>\n",
       "      <td>04:4E:BD:7F:00:61:31:0F</td>\n",
       "      <td>-2006054656</td>\n",
       "    </tr>\n",
       "    <tr>\n",
       "      <th>...</th>\n",
       "      <td>...</td>\n",
       "      <td>...</td>\n",
       "    </tr>\n",
       "    <tr>\n",
       "      <th>3904</th>\n",
       "      <td>04:DD:0B:5A:00:51:44:07</td>\n",
       "      <td>1652517644</td>\n",
       "    </tr>\n",
       "    <tr>\n",
       "      <th>3983</th>\n",
       "      <td>04:B3:B5:8A:00:C2:45:07</td>\n",
       "      <td>1654228249</td>\n",
       "    </tr>\n",
       "    <tr>\n",
       "      <th>4077</th>\n",
       "      <td>04:0E:D8:5A:00:EF:1A:01</td>\n",
       "      <td>1653455491</td>\n",
       "    </tr>\n",
       "    <tr>\n",
       "      <th>4111</th>\n",
       "      <td>04:CD:02:43:00:D7:29:0E</td>\n",
       "      <td>1652871561</td>\n",
       "    </tr>\n",
       "    <tr>\n",
       "      <th>4136</th>\n",
       "      <td>04:CD:02:43:00:D7:29:0E</td>\n",
       "      <td>1655640210</td>\n",
       "    </tr>\n",
       "  </tbody>\n",
       "</table>\n",
       "<p>136 rows × 2 columns</p>\n",
       "</div>"
      ],
      "text/plain": [
       "                       prodId   timestamp\n",
       "3     04:85:E4:ED:00:B5:5A:0F  1631706717\n",
       "23    04:0C:1C:9C:00:69:0E:05  1631783866\n",
       "44    04:0C:1C:9C:00:69:0E:05  1631787438\n",
       "49    04:DD:91:C0:00:F0:17:0B  1638264042\n",
       "101   04:4E:BD:7F:00:61:31:0F -2006054656\n",
       "...                       ...         ...\n",
       "3904  04:DD:0B:5A:00:51:44:07  1652517644\n",
       "3983  04:B3:B5:8A:00:C2:45:07  1654228249\n",
       "4077  04:0E:D8:5A:00:EF:1A:01  1653455491\n",
       "4111  04:CD:02:43:00:D7:29:0E  1652871561\n",
       "4136  04:CD:02:43:00:D7:29:0E  1655640210\n",
       "\n",
       "[136 rows x 2 columns]"
      ]
     },
     "execution_count": 22,
     "metadata": {},
     "output_type": "execute_result"
    }
   ],
   "source": [
    "ovulNotes[\"timestamp\"] = ovulNotes[\"givenTimestamp\"]\n",
    "ovulNotes = ovulNotes.drop(columns=[\"givenTimestamp\"])\n",
    "ovulNotes"
   ]
  },
  {
   "cell_type": "code",
   "execution_count": 23,
   "metadata": {},
   "outputs": [
    {
     "data": {
      "text/html": [
       "<div>\n",
       "<style scoped>\n",
       "    .dataframe tbody tr th:only-of-type {\n",
       "        vertical-align: middle;\n",
       "    }\n",
       "\n",
       "    .dataframe tbody tr th {\n",
       "        vertical-align: top;\n",
       "    }\n",
       "\n",
       "    .dataframe thead th {\n",
       "        text-align: right;\n",
       "    }\n",
       "</style>\n",
       "<table border=\"1\" class=\"dataframe\">\n",
       "  <thead>\n",
       "    <tr style=\"text-align: right;\">\n",
       "      <th></th>\n",
       "      <th>prodId</th>\n",
       "      <th>timestamp</th>\n",
       "    </tr>\n",
       "  </thead>\n",
       "  <tbody>\n",
       "    <tr>\n",
       "      <th>3</th>\n",
       "      <td>04:85:E4:ED:00:B5:5A:0F</td>\n",
       "      <td>2021-09-15</td>\n",
       "    </tr>\n",
       "    <tr>\n",
       "      <th>23</th>\n",
       "      <td>04:0C:1C:9C:00:69:0E:05</td>\n",
       "      <td>2021-09-16</td>\n",
       "    </tr>\n",
       "    <tr>\n",
       "      <th>44</th>\n",
       "      <td>04:0C:1C:9C:00:69:0E:05</td>\n",
       "      <td>2021-09-16</td>\n",
       "    </tr>\n",
       "    <tr>\n",
       "      <th>49</th>\n",
       "      <td>04:DD:91:C0:00:F0:17:0B</td>\n",
       "      <td>2021-11-30</td>\n",
       "    </tr>\n",
       "    <tr>\n",
       "      <th>101</th>\n",
       "      <td>04:4E:BD:7F:00:61:31:0F</td>\n",
       "      <td>1906-06-07</td>\n",
       "    </tr>\n",
       "    <tr>\n",
       "      <th>...</th>\n",
       "      <td>...</td>\n",
       "      <td>...</td>\n",
       "    </tr>\n",
       "    <tr>\n",
       "      <th>3904</th>\n",
       "      <td>04:DD:0B:5A:00:51:44:07</td>\n",
       "      <td>2022-05-14</td>\n",
       "    </tr>\n",
       "    <tr>\n",
       "      <th>3983</th>\n",
       "      <td>04:B3:B5:8A:00:C2:45:07</td>\n",
       "      <td>2022-06-03</td>\n",
       "    </tr>\n",
       "    <tr>\n",
       "      <th>4077</th>\n",
       "      <td>04:0E:D8:5A:00:EF:1A:01</td>\n",
       "      <td>2022-05-25</td>\n",
       "    </tr>\n",
       "    <tr>\n",
       "      <th>4111</th>\n",
       "      <td>04:CD:02:43:00:D7:29:0E</td>\n",
       "      <td>2022-05-18</td>\n",
       "    </tr>\n",
       "    <tr>\n",
       "      <th>4136</th>\n",
       "      <td>04:CD:02:43:00:D7:29:0E</td>\n",
       "      <td>2022-06-19</td>\n",
       "    </tr>\n",
       "  </tbody>\n",
       "</table>\n",
       "<p>136 rows × 2 columns</p>\n",
       "</div>"
      ],
      "text/plain": [
       "                       prodId  timestamp\n",
       "3     04:85:E4:ED:00:B5:5A:0F 2021-09-15\n",
       "23    04:0C:1C:9C:00:69:0E:05 2021-09-16\n",
       "44    04:0C:1C:9C:00:69:0E:05 2021-09-16\n",
       "49    04:DD:91:C0:00:F0:17:0B 2021-11-30\n",
       "101   04:4E:BD:7F:00:61:31:0F 1906-06-07\n",
       "...                       ...        ...\n",
       "3904  04:DD:0B:5A:00:51:44:07 2022-05-14\n",
       "3983  04:B3:B5:8A:00:C2:45:07 2022-06-03\n",
       "4077  04:0E:D8:5A:00:EF:1A:01 2022-05-25\n",
       "4111  04:CD:02:43:00:D7:29:0E 2022-05-18\n",
       "4136  04:CD:02:43:00:D7:29:0E 2022-06-19\n",
       "\n",
       "[136 rows x 2 columns]"
      ]
     },
     "execution_count": 23,
     "metadata": {},
     "output_type": "execute_result"
    }
   ],
   "source": [
    "ovulNotes[\"timestamp\"] = pd.to_datetime(ovulNotes[\"timestamp\"], 1490195805, unit='s').dt.floor(\"D\")\n",
    "ovulNotes"
   ]
  },
  {
   "cell_type": "markdown",
   "metadata": {},
   "source": [
    "Eliminamos duplicados"
   ]
  },
  {
   "cell_type": "code",
   "execution_count": 24,
   "metadata": {},
   "outputs": [
    {
     "name": "stdout",
     "output_type": "stream",
     "text": [
      "Ovulaciones duplicadas:\n",
      "                       prodId  timestamp       fecha\n",
      "23    04:0C:1C:9C:00:69:0E:05 2021-09-16  2021-09-16\n",
      "44    04:0C:1C:9C:00:69:0E:05 2021-09-16  2021-09-16\n",
      "1489  04:71:B9:44:00:ED:09:09 2022-04-13  2022-04-13\n",
      "1490  04:71:B9:44:00:ED:09:09 2022-04-13  2022-04-13\n",
      "1574  04:D0:20:7C:00:44:11:04 2022-04-11  2022-04-11\n",
      "1576  04:D0:20:7C:00:44:11:04 2022-04-11  2022-04-11\n",
      "3008  04:60:70:9C:00:27:0B:05 2022-03-22  2022-03-22\n",
      "3009  04:60:70:9C:00:27:0B:05 2022-03-22  2022-03-22\n",
      "3694  04:7B:4F:B8:00:1F:49:04 2022-04-27  2022-04-27\n",
      "3699  04:7B:4F:B8:00:1F:49:04 2022-04-27  2022-04-27\n",
      "3792  04:80:66:6A:00:CD:07:09 2022-05-09  2022-05-09\n",
      "3794  04:80:66:6A:00:CD:07:09 2022-05-09  2022-05-09\n"
     ]
    }
   ],
   "source": [
    "# Crear una columna auxiliar con solo la fecha\n",
    "ovulNotes['fecha'] = ovulNotes['timestamp'].dt.date\n",
    "\n",
    "# Identificar los elementos repetidos (duplicados por prodId y fecha)\n",
    "duplicados = ovulNotes[ovulNotes.duplicated(subset=['prodId', 'fecha'], keep=False)]\n",
    "\n",
    "print(\"Ovulaciones duplicadas:\")\n",
    "print(duplicados)"
   ]
  },
  {
   "cell_type": "code",
   "execution_count": 25,
   "metadata": {},
   "outputs": [
    {
     "name": "stdout",
     "output_type": "stream",
     "text": [
      "Oculaciones sin duplicados:\n",
      "                       prodId  timestamp\n",
      "3     04:85:E4:ED:00:B5:5A:0F 2021-09-15\n",
      "23    04:0C:1C:9C:00:69:0E:05 2021-09-16\n",
      "49    04:DD:91:C0:00:F0:17:0B 2021-11-30\n",
      "101   04:4E:BD:7F:00:61:31:0F 1906-06-07\n",
      "114   04:0C:1C:9C:00:69:0E:05 1906-06-07\n",
      "...                       ...        ...\n",
      "3904  04:DD:0B:5A:00:51:44:07 2022-05-14\n",
      "3983  04:B3:B5:8A:00:C2:45:07 2022-06-03\n",
      "4077  04:0E:D8:5A:00:EF:1A:01 2022-05-25\n",
      "4111  04:CD:02:43:00:D7:29:0E 2022-05-18\n",
      "4136  04:CD:02:43:00:D7:29:0E 2022-06-19\n",
      "\n",
      "[130 rows x 2 columns]\n"
     ]
    }
   ],
   "source": [
    "# Eliminar duplicados\n",
    "ovulNotes = ovulNotes.drop_duplicates(subset=['prodId', 'fecha'], keep='first')\n",
    "\n",
    "ovulNotes = ovulNotes.drop(columns=['fecha'])\n",
    "\n",
    "print(\"Oculaciones sin duplicados:\")\n",
    "print(ovulNotes)"
   ]
  },
  {
   "cell_type": "code",
   "execution_count": 33,
   "metadata": {},
   "outputs": [],
   "source": [
    "ovulNotes.to_csv(\"../procData/ovulNotes.csv\", sep=';', index=False)"
   ]
  }
 ],
 "metadata": {
  "kernelspec": {
   "display_name": "Python 3",
   "language": "python",
   "name": "python3"
  },
  "language_info": {
   "codemirror_mode": {
    "name": "ipython",
    "version": 3
   },
   "file_extension": ".py",
   "mimetype": "text/x-python",
   "name": "python",
   "nbconvert_exporter": "python",
   "pygments_lexer": "ipython3",
   "version": "3.13.3"
  }
 },
 "nbformat": 4,
 "nbformat_minor": 2
}
