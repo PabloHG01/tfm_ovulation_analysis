{
 "cells": [
  {
   "cell_type": "markdown",
   "metadata": {},
   "source": [
    "# Preprocesamiento datos de temperatura"
   ]
  },
  {
   "cell_type": "code",
   "execution_count": 7,
   "metadata": {},
   "outputs": [],
   "source": [
    "import pandas as pd\n",
    "import numpy as np"
   ]
  },
  {
   "cell_type": "code",
   "execution_count": 8,
   "metadata": {},
   "outputs": [
    {
     "name": "stderr",
     "output_type": "stream",
     "text": [
      "C:\\Users\\pablo\\AppData\\Local\\Temp\\ipykernel_11716\\4002809896.py:1: DtypeWarning: Columns (18,24) have mixed types. Specify dtype option on import or set low_memory=False.\n",
      "  medResults = pd.read_csv('../medData/medResultsTu.csv', header=0, sep=';')\n"
     ]
    },
    {
     "name": "stdout",
     "output_type": "stream",
     "text": [
      "(3293270, 25)\n"
     ]
    }
   ],
   "source": [
    "medResults = pd.read_csv('../medData/medResultsTu.csv', header=0, sep=';')\n",
    "print(medResults.shape)"
   ]
  },
  {
   "cell_type": "code",
   "execution_count": 9,
   "metadata": {},
   "outputs": [
    {
     "data": {
      "text/plain": [
       "(3293270, 25)"
      ]
     },
     "execution_count": 9,
     "metadata": {},
     "output_type": "execute_result"
    }
   ],
   "source": [
    "medResults.shape"
   ]
  },
  {
   "cell_type": "markdown",
   "metadata": {},
   "source": [
    "## Datos en bruto"
   ]
  },
  {
   "cell_type": "code",
   "execution_count": 10,
   "metadata": {},
   "outputs": [
    {
     "name": "stdout",
     "output_type": "stream",
     "text": [
      "(3293270, 4)\n"
     ]
    }
   ],
   "source": [
    "df_results = medResults.loc[:,[\"prodId\", \"result\", \"resultTimestamp\", \"Tu\"]]\n",
    "print(df_results.shape)"
   ]
  },
  {
   "cell_type": "code",
   "execution_count": 11,
   "metadata": {},
   "outputs": [
    {
     "name": "stdout",
     "output_type": "stream",
     "text": [
      "0\n",
      "806999\n",
      "0\n",
      "0\n"
     ]
    }
   ],
   "source": [
    "print(df_results.prodId.isnull().sum())\n",
    "print(df_results.Tu.isnull().sum())\n",
    "print(df_results.result.isnull().sum())\n",
    "print(df_results.resultTimestamp.isnull().sum())"
   ]
  },
  {
   "cell_type": "code",
   "execution_count": 12,
   "metadata": {},
   "outputs": [
    {
     "name": "stdout",
     "output_type": "stream",
     "text": [
      "(2486271, 4)\n"
     ]
    }
   ],
   "source": [
    "df_results = df_results.dropna()\n",
    "print(df_results.shape)"
   ]
  },
  {
   "cell_type": "code",
   "execution_count": 13,
   "metadata": {},
   "outputs": [
    {
     "data": {
      "text/plain": [
       "90"
      ]
     },
     "execution_count": 13,
     "metadata": {},
     "output_type": "execute_result"
    }
   ],
   "source": [
    "df_results.Tu.unique().size"
   ]
  },
  {
   "cell_type": "code",
   "execution_count": 14,
   "metadata": {},
   "outputs": [],
   "source": [
    "df_results.to_csv(\"../procData/tempNotes.csv\", sep=';', index=False)"
   ]
  },
  {
   "cell_type": "markdown",
   "metadata": {},
   "source": [
    "## Datos filtrados por temperatura"
   ]
  },
  {
   "cell_type": "code",
   "execution_count": 15,
   "metadata": {},
   "outputs": [
    {
     "name": "stdout",
     "output_type": "stream",
     "text": [
      "(2918245, 4)\n"
     ]
    }
   ],
   "source": [
    "df_results_filt = medResults.loc[(medResults.result > 35.7) & (medResults.result < 37.7), [\"prodId\", \"result\", \"resultTimestamp\", \"Tu\"]]\n",
    "print(df_results_filt.shape)"
   ]
  },
  {
   "cell_type": "code",
   "execution_count": 16,
   "metadata": {},
   "outputs": [
    {
     "name": "stdout",
     "output_type": "stream",
     "text": [
      "0\n",
      "583292\n",
      "0\n",
      "0\n"
     ]
    }
   ],
   "source": [
    "print(df_results_filt.prodId.isnull().sum())\n",
    "print(df_results_filt.Tu.isnull().sum())\n",
    "print(df_results_filt.result.isnull().sum())\n",
    "print(df_results_filt.resultTimestamp.isnull().sum())"
   ]
  },
  {
   "cell_type": "code",
   "execution_count": 17,
   "metadata": {},
   "outputs": [
    {
     "name": "stdout",
     "output_type": "stream",
     "text": [
      "(2334953, 4)\n"
     ]
    }
   ],
   "source": [
    "df_results_filt = df_results_filt.dropna()\n",
    "print(df_results_filt.shape)"
   ]
  },
  {
   "cell_type": "code",
   "execution_count": 18,
   "metadata": {},
   "outputs": [
    {
     "data": {
      "text/plain": [
       "88"
      ]
     },
     "execution_count": 18,
     "metadata": {},
     "output_type": "execute_result"
    }
   ],
   "source": [
    "df_results_filt.Tu.unique().size"
   ]
  },
  {
   "cell_type": "code",
   "execution_count": 12,
   "metadata": {},
   "outputs": [],
   "source": [
    "df_results_filt.to_csv(\"../procData/tempNotes_filt.csv\", sep=';', index=False)"
   ]
  }
 ],
 "metadata": {
  "kernelspec": {
   "display_name": "Python 3",
   "language": "python",
   "name": "python3"
  },
  "language_info": {
   "codemirror_mode": {
    "name": "ipython",
    "version": 3
   },
   "file_extension": ".py",
   "mimetype": "text/x-python",
   "name": "python",
   "nbconvert_exporter": "python",
   "pygments_lexer": "ipython3",
   "version": "3.13.3"
  }
 },
 "nbformat": 4,
 "nbformat_minor": 2
}
