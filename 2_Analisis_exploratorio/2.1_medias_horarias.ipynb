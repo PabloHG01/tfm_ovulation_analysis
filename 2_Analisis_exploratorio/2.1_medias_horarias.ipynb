{
 "cells": [
  {
   "cell_type": "markdown",
   "id": "e32dcc6a",
   "metadata": {},
   "source": [
    "# Cálculo de medias horarias"
   ]
  },
  {
   "cell_type": "code",
   "execution_count": 1,
   "id": "ba2e7436",
   "metadata": {},
   "outputs": [],
   "source": [
    "import pandas as pd\n",
    "import numpy as np\n",
    "from matplotlib import pyplot as plt\n",
    "import pickle"
   ]
  },
  {
   "cell_type": "code",
   "execution_count": null,
   "id": "18d637d1",
   "metadata": {},
   "outputs": [],
   "source": [
    "with open(\"../procData/muestras_ovul_imput.pkl\", \"rb\") as f:\n",
    "    muestras_ovul = pickle.load(f)"
   ]
  },
  {
   "cell_type": "code",
   "execution_count": null,
   "id": "3da769c7",
   "metadata": {},
   "outputs": [],
   "source": [
    "muestras_ovul_horas = {}\n",
    "\n",
    "for key, data in muestras_ovul.items():\n",
    "    df = data[\"serie\"].copy()\n",
    "\n",
    "    # Redondear timestamps a la hora\n",
    "    df[\"resultTimestamp\"] = df[\"resultTimestamp\"].dt.floor(\"h\")\n",
    "\n",
    "    # Calcular media horaria\n",
    "    df_horas = df.groupby(\"resultTimestamp\", as_index=False)[\"result\"].mean()\n",
    "\n",
    "    muestras_ovul_horas[key] = {\n",
    "        \"serie\": df_horas,\n",
    "        \"ovul\": data[\"ovul\"]\n",
    "    }"
   ]
  },
  {
   "cell_type": "code",
   "execution_count": null,
   "id": "44eb4f6e",
   "metadata": {},
   "outputs": [],
   "source": [
    "with open(\"../procData/muestras_ovul_horas.pkl\", \"wb\") as f:\n",
    "    pickle.dump(muestras_ovul_horas, f)"
   ]
  }
 ],
 "metadata": {
  "kernelspec": {
   "display_name": "Python 3",
   "language": "python",
   "name": "python3"
  },
  "language_info": {
   "codemirror_mode": {
    "name": "ipython",
    "version": 3
   },
   "file_extension": ".py",
   "mimetype": "text/x-python",
   "name": "python",
   "nbconvert_exporter": "python",
   "pygments_lexer": "ipython3",
   "version": "3.13.3"
  }
 },
 "nbformat": 4,
 "nbformat_minor": 5
}
